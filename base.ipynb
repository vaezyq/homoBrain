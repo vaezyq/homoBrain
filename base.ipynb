{
 "cells": [
  {
   "cell_type": "code",
   "execution_count": 1,
   "metadata": {
    "collapsed": true
   },
   "outputs": [],
   "source": [
    "\"\"\"\n",
    "这个类中主要保存所用到的网络架构的基本信息，以及进行路由生成时用到的体素连接概率表、体素的大小\n",
    "1. 网络架构：\n",
    "    · 昆仑超算中心使用IB（infinite band）架构，IB交换机之间两两相连,交换机之间减速比有0.8\n",
    "    · 每个IB交换机下有20个计算节点，每个计算节点有4张加速卡（dcu）\n",
    "2. 输入数据（input）\n",
    "2.1. 连接概率表（self.conn)\n",
    "    · 连接概率表是一个约22703x22703的矩阵，第i行的第j个元素代表i号体素连接到j号体素的概率\n",
    "    · 连接概率表每行元素的和为1\n",
    "    · 连接概率表是一个稀疏矩阵，只有3%的非0元素（体素版本）\n",
    "    · 若i号体素连接到j号体素\n",
    "2.2. 体素的大小（self.size)\n",
    "    · 记录了每个体素的大小，体素的大小与可能发送的spike数目呈正比\n",
    "2.3. 体素对外连接的度（self.degree）\n",
    "    · 记录每个体素与其他体素相连的度\n",
    "\n",
    "last modified: lyh 2021.1.6\n",
    "\"\"\"\n",
    "\n",
    "\n",
    "# TODO(@lyh): update documentation\n",
    "\n",
    "\n",
    "class Base:\n",
    "    def __init__(self):\n",
    "        # 定义神经元个数、进程个数与每一组的GPU的个数（可以理解为每一行的GPU的个数）\n",
    "        self.neuron_number = int(8.64e10)\n",
    "        self.N = int(10000)  # Total number of processes\n",
    "        self.n_gpu_per_group = 100\n",
    "\n",
    "        # version information\n",
    "        # self.conn_version = 'voxel_22703'\n",
    "        # 定义输入数据、输出map分配、route分配的名称\n",
    "        self.conn_version = 'voxel_22703'\n",
    "        self.map_version = 'map_' + str(self.N) + '_v4_' + self.conn_version\n",
    "        self.route_version = 'route_v1_' + self.map_version\n",
    "\n",
    "        # old versions\n",
    "        # self.map_version = 'map_2000_v2'\n",
    "        # self.route_version = 'route_2000_v1_map_v2'\n",
    "\n",
    "        # group parameters\n",
    "        # 定义每一组节点的个数，由于一个节点4个GPU，所以每一组为GPU数目除以4\n",
    "        self.n_node_per_group = int(self.n_gpu_per_group / 4)\n",
    "        # 定义GPU分组的个数，即进程的个数除以每个组的GPU的个数\n",
    "        self.number_of_groups = int(self.N / self.n_gpu_per_group)\n",
    "\n",
    "        # data path\n",
    "        # 定义输出根路径、输入连接的路径\n",
    "        self.root_path = 'G:/专业课学习/并行计算/类脑材料/'\n",
    "        self.conn_root = self.root_path + 'tables/conn_table/' + self.conn_version + '/'\n",
    "        self.conn_table_path = self.conn_root + 'conn.npy'\n",
    "        # 定义每个体素的大小，这里为什么有两个？比较一下\n",
    "        self.size_path = self.conn_root + 'size.npy'\n",
    "        self.origin_size_path = self.conn_root + 'origin_size.npy'\n",
    "        # 定义每个体素连接的度，这里为什么也是两个？比较一下\n",
    "        self.degree_path = self.conn_root + 'degree.npy'\n",
    "        self.origin_degree_path = self.conn_root + 'origin_degree.npy'\n",
    "\n",
    "        # network topology information\n",
    "        # 定义每个节点的GPU的个数\n",
    "        self.gpu_per_node = 4\n",
    "        # 定义交换机，每个交换机下有20个节点，IB交换机之间两两相连,交换机之间减速比有0.8（这句话的含义？）\n",
    "        self.node_per_switch = 20\n",
    "        # 每个交换机下的GPU的个数，即20*4\n",
    "        self.gpu_per_switch = self.gpu_per_node * self.node_per_switch\n",
    "        # 定义节点的个数\n",
    "        self.number_of_nodes = int(self.N / self.gpu_per_node)\n",
    "        # 交换机的个数，即节点数目除以20（一个交换机下有20个节点）\n",
    "        self.number_of_switches = int(self.number_of_nodes / self.node_per_switch)\n",
    "\n",
    "        # route path\n",
    "        # 定义输出路由的路径，注意这里如果路径不存在，需要创建相应的路径（注意并行程序会执行多遍，但是其实只需要创建一次路径即可）\n",
    "        self.route_path = self.root_path + 'tables/route_table/' + self.route_version + '/'\n",
    "        # import os\n",
    "        # if not os.path.exists(self.route_path):\n",
    "        #     os.mkdir(self.route_path)\n",
    "        # 定义路由的输出文件，同时还有json格式的输出（这两个的区别？）\n",
    "        self.route_npy_save_path = self.route_path + 'route.npy'\n",
    "        self.route_dense_json_save_path = self.route_path + 'route_dense.json'\n",
    "\n",
    "\n",
    "if __name__ == \"__main__\":\n",
    "    b = Base()"
   ]
  },
  {
   "cell_type": "markdown",
   "source": [],
   "metadata": {
    "collapsed": false,
    "pycharm": {
     "name": "#%% md\n"
    }
   }
  },
  {
   "cell_type": "code",
   "execution_count": null,
   "outputs": [],
   "source": [],
   "metadata": {
    "collapsed": false,
    "pycharm": {
     "name": "#%%\n"
    }
   }
  }
 ],
 "metadata": {
  "kernelspec": {
   "display_name": "Python 3",
   "language": "python",
   "name": "python3"
  },
  "language_info": {
   "codemirror_mode": {
    "name": "ipython",
    "version": 2
   },
   "file_extension": ".py",
   "mimetype": "text/x-python",
   "name": "python",
   "nbconvert_exporter": "python",
   "pygments_lexer": "ipython2",
   "version": "2.7.6"
  }
 },
 "nbformat": 4,
 "nbformat_minor": 0
}