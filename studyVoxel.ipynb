{
 "cells": [
  {
   "cell_type": "code",
   "source": [
    "from code.data import *\n",
    "\n",
    "D = Data()\n",
    "D.load_data()\n",
    "print(D.conn)"
   ],
   "metadata": {
    "collapsed": false,
    "pycharm": {
     "name": "#%%\n"
    }
   },
   "execution_count": 6,
   "outputs": [
    {
     "name": "stdout",
     "output_type": "stream",
     "text": [
      "[[0.375      0.00956633 0.         ... 0.         0.         0.        ]\n",
      " [0.0031407  0.375      0.         ... 0.         0.         0.        ]\n",
      " [0.         0.         0.375      ... 0.         0.         0.        ]\n",
      " ...\n",
      " [0.         0.         0.         ... 0.375      0.00940635 0.        ]\n",
      " [0.         0.         0.         ... 0.01220174 0.37500003 0.00067787]\n",
      " [0.         0.         0.         ... 0.         0.01893939 0.375     ]]\n"
     ]
    }
   ]
  },
  {
   "cell_type": "code",
   "execution_count": 7,
   "outputs": [
    {
     "name": "stdout",
     "output_type": "stream",
     "text": [
      "(22703, 22703)\n"
     ]
    }
   ],
   "source": [
    "print(D.conn.shape)"
   ],
   "metadata": {
    "collapsed": false,
    "pycharm": {
     "name": "#%%\n"
    }
   }
  },
  {
   "cell_type": "code",
   "execution_count": 8,
   "outputs": [
    {
     "name": "stdout",
     "output_type": "stream",
     "text": [
      "[4.97044381e-05 5.46609307e-05 5.68316157e-05 ... 1.06372692e-05\n",
      " 1.14917044e-05 9.50135874e-06]\n"
     ]
    }
   ],
   "source": [
    "print(D.origin_size)"
   ],
   "metadata": {
    "collapsed": false,
    "pycharm": {
     "name": "#%%\n"
    }
   }
  },
  {
   "cell_type": "code",
   "execution_count": 9,
   "outputs": [
    {
     "name": "stdout",
     "output_type": "stream",
     "text": [
      "[100 100 100 ... 100 100 100]\n"
     ]
    }
   ],
   "source": [
    "print(D.degree)"
   ],
   "metadata": {
    "collapsed": false,
    "pycharm": {
     "name": "#%%\n"
    }
   }
  },
  {
   "cell_type": "code",
   "execution_count": 10,
   "outputs": [
    {
     "name": "stdout",
     "output_type": "stream",
     "text": [
      "################### Base Info ###################\n",
      "Number of GPUs used: 10000\n",
      "Number of voxels: 22703\n",
      "Number of neuron: 8.64e+10\n",
      "Number of groups: 100\n",
      "Number of GPUs per group: 100\n",
      "Connection table version: voxel_22703\n",
      "Map version: map_10000_v4_voxel_22703\n",
      "Route version: route_v1_map_10000_v4_voxel_22703\n",
      "Sum size: 1.0\n",
      "Sum degree: 2270300\n",
      "#################################################\n",
      "\n",
      "None\n"
     ]
    }
   ],
   "source": [
    "print(D.show_basic_information())"
   ],
   "metadata": {
    "collapsed": false,
    "pycharm": {
     "name": "#%%\n"
    }
   }
  },
  {
   "cell_type": "code",
   "execution_count": 11,
   "outputs": [
    {
     "name": "stdout",
     "output_type": "stream",
     "text": [
      "[[0.375      0.00956633 0.         ... 0.         0.         0.        ]\n",
      " [0.0031407  0.375      0.         ... 0.         0.         0.        ]\n",
      " [0.         0.         0.375      ... 0.         0.         0.        ]\n",
      " ...\n",
      " [0.         0.         0.         ... 0.375      0.00940635 0.        ]\n",
      " [0.         0.         0.         ... 0.01220174 0.37500003 0.00067787]\n",
      " [0.         0.         0.         ... 0.         0.01893939 0.375     ]]\n"
     ]
    }
   ],
   "source": [
    "D = Data()\n",
    "D.load_data()\n",
    "print(D.conn)"
   ],
   "metadata": {
    "collapsed": false,
    "pycharm": {
     "name": "#%%\n"
    }
   }
  },
  {
   "cell_type": "code",
   "execution_count": 12,
   "outputs": [
    {
     "name": "stdout",
     "output_type": "stream",
     "text": [
      "(22703, 22703)\n"
     ]
    }
   ],
   "source": [
    "print(D.conn.shape)"
   ],
   "metadata": {
    "collapsed": false,
    "pycharm": {
     "name": "#%%\n"
    }
   }
  },
  {
   "cell_type": "code",
   "execution_count": null,
   "outputs": [],
   "source": [],
   "metadata": {
    "collapsed": false,
    "pycharm": {
     "name": "#%%\n"
    }
   }
  }
 ],
 "metadata": {
  "kernelspec": {
   "display_name": "Python 3",
   "language": "python",
   "name": "python3"
  },
  "language_info": {
   "codemirror_mode": {
    "name": "ipython",
    "version": 2
   },
   "file_extension": ".py",
   "mimetype": "text/x-python",
   "name": "python",
   "nbconvert_exporter": "python",
   "pygments_lexer": "ipython2",
   "version": "2.7.6"
  }
 },
 "nbformat": 4,
 "nbformat_minor": 0
}